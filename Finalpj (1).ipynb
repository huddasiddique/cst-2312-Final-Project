{
  "cells": [
    {
      "cell_type": "code",
      "execution_count": 1,
      "metadata": {
        "id": "APtYYy_ku1qM"
      },
      "outputs": [],
      "source": [
        "import pandas as pd\n",
        "import numpy as np\n",
        "from matplotlib import pyplot as plt\n",
        "import seaborn as sns\n",
        "\n",
        "from matplotlib import pyplot as plt\n"
      ]
    },
    {
      "cell_type": "code",
      "execution_count": 2,
      "metadata": {
        "id": "dFCNDkC_wjka"
      },
      "outputs": [],
      "source": [
        "import matplotlib.pyplot as plt"
      ]
    },
    {
      "cell_type": "code",
      "execution_count": 3,
      "metadata": {
        "colab": {
          "base_uri": "https://localhost:8080/"
        },
        "id": "n_4MzaQB5ERO",
        "outputId": "012e82d3-4e91-41b1-94dc-b158dc3dff3a"
      },
      "outputs": [
        {
          "output_type": "stream",
          "name": "stdout",
          "text": [
            "  % Total    % Received % Xferd  Average Speed   Time    Time     Time  Current\n",
            "                                 Dload  Upload   Total   Spent    Left  Speed\n",
            "\r  0     0    0     0    0     0      0      0 --:--:-- --:--:-- --:--:--     0\r100  106k  100  106k    0     0   818k      0 --:--:-- --:--:-- --:--:--  818k\n"
          ]
        }
      ],
      "source": [
        "!curl \"https://raw.githubusercontent.com/huddasiddique/python/main/data/New_York_City_Leading_Causes_of_Death.csv\" -o nyc_death_causes.csv"
      ]
    },
    {
      "cell_type": "code",
      "execution_count": 4,
      "metadata": {
        "colab": {
          "base_uri": "https://localhost:8080/"
        },
        "id": "49lTRaFO5RC1",
        "outputId": "3c43aa7f-570b-4642-dbb0-d13b5676d99a"
      },
      "outputs": [
        {
          "output_type": "stream",
          "name": "stdout",
          "text": [
            "  % Total    % Received % Xferd  Average Speed   Time    Time     Time  Current\n",
            "                                 Dload  Upload   Total   Spent    Left  Speed\n",
            "\r  0     0    0     0    0     0      0      0 --:--:-- --:--:-- --:--:--     0\r100  526k  100  526k    0     0  4050k      0 --:--:-- --:--:-- --:--:-- 4050k\n"
          ]
        }
      ],
      "source": [
        "!curl  \"https://raw.githubusercontent.com/huddasiddique/csvpart3/main/data/DOHMH_HIV_AIDS_Annual_Report.csv\" -o DOHMH_HIV_AIDS_Annual_Report.csv"
      ]
    },
    {
      "cell_type": "code",
      "execution_count": 5,
      "metadata": {
        "id": "csGPZt6JpWaQ"
      },
      "outputs": [],
      "source": [
        "# Dataset: New York City Leading Causes of Death"
      ]
    },
    {
      "cell_type": "code",
      "execution_count": 6,
      "metadata": {
        "id": "j4-9QrM05zUa"
      },
      "outputs": [],
      "source": [
        "df = pd.read_csv(\"https://raw.githubusercontent.com/huddasiddique/python/main/data/New_York_City_Leading_Causes_of_Death.csv\",)\n"
      ]
    },
    {
      "cell_type": "code",
      "execution_count": 7,
      "metadata": {
        "id": "4Oy0CV0B5tdZ"
      },
      "outputs": [],
      "source": [
        "ha_df = pd.read_csv(\"https://raw.githubusercontent.com/huddasiddique/csvpart3/main/data/DOHMH_HIV_AIDS_Annual_Report.csv\",)"
      ]
    },
    {
      "cell_type": "code",
      "execution_count": 8,
      "metadata": {
        "colab": {
          "base_uri": "https://localhost:8080/"
        },
        "id": "BJbZGba2whqr",
        "outputId": "c5b3372f-45a1-4f00-8108-af59fdfe634b"
      },
      "outputs": [
        {
          "output_type": "stream",
          "name": "stdout",
          "text": [
            "aids:\n",
            " ['Year', 'Leading Cause', 'Sex', 'Race Ethnicity', 'Deaths', 'Death Rate', 'Age Adjusted Death Rate'] \n",
            "\n",
            "hiv:\n",
            " ['Year', 'Borough', 'UHF', 'Gender', 'Age', 'Race', 'HIV diagnoses', 'HIV diagnosis rate', 'Concurrent diagnoses', '% linked to care within 3 months', 'AIDS diagnoses', 'AIDS diagnosis rate', 'PLWDHI prevalence', '% viral suppression', 'Deaths', 'Death rate', 'HIV-related death rate', 'Non-HIV-related death rate']\n",
            "test             Age  Year  HIV diagnoses  HIV diagnosis rate  \\\n",
            "0           All  2014           2749                38.3   \n",
            "1           All  2014           2177                64.6   \n",
            "2           All  2014            524                15.0   \n",
            "3           All  2014             48             99999.0   \n",
            "4       13 - 19  2014             28                 8.5   \n",
            "...         ...   ...            ...                 ...   \n",
            "653339      All  2011              0                 0.0   \n",
            "653340      All  2011              0                 0.0   \n",
            "653341      All  2011              0                 0.0   \n",
            "653342      All  2011              0                 0.0   \n",
            "653343      All  2011              1                 4.2   \n",
            "\n",
            "        Concurrent diagnoses  AIDS diagnoses  Death rate  HIV diagnosis rate  \\\n",
            "0                        490            1518        10.1                38.3   \n",
            "1                        369            1087         9.8                64.6   \n",
            "2                        116             415        10.9                15.0   \n",
            "3                          5              16         8.1             99999.0   \n",
            "4                          1               3         0.0                 8.5   \n",
            "...                      ...             ...         ...                 ...   \n",
            "653339                     0               0         0.0                 0.0   \n",
            "653340                     0               0         0.0                 0.0   \n",
            "653341                     0               0        10.6                 0.0   \n",
            "653342                     0               0         0.0                 0.0   \n",
            "653343                     1               1         0.0                 4.2   \n",
            "\n",
            "       Age Adjusted Death Rate  \n",
            "0                         90.4  \n",
            "1                         90.4  \n",
            "2                         90.4  \n",
            "3                         90.4  \n",
            "4                         90.4  \n",
            "...                        ...  \n",
            "653339                       .  \n",
            "653340                       .  \n",
            "653341                       .  \n",
            "653342                       .  \n",
            "653343                       .  \n",
            "\n",
            "[653344 rows x 9 columns]\n"
          ]
        }
      ],
      "source": [
        "# ha_df.dtypes\n",
        "print('aids:\\n',df.columns.tolist(),'\\n')\n",
        "print('hiv:\\n',ha_df.columns.tolist())\n",
        "#columndf = ha_df[['Year', 'HIV diagnoses', 'HIV diagnosis rate', 'Concurrent diagnoses','AIDS diagnosis rate','Death rate','HIV diagnosis rate']]\n",
        "merged_df = pd.merge(df, ha_df, how='inner', on=['Year'])\n",
        "columndf = merged_df[['Age','Year', 'HIV diagnoses', 'HIV diagnosis rate', 'Concurrent diagnoses','AIDS diagnoses','Death rate','HIV diagnosis rate','Age Adjusted Death Rate']]\n",
        "print('test',columndf)\n",
        "\n",
        "\n"
      ]
    },
    {
      "cell_type": "code",
      "execution_count": 9,
      "metadata": {
        "id": "ZFiJDjxVw8xi",
        "colab": {
          "base_uri": "https://localhost:8080/"
        },
        "outputId": "35ee3986-a247-4844-8348-bdaa65f331a0"
      },
      "outputs": [
        {
          "output_type": "stream",
          "name": "stdout",
          "text": [
            "Year                                  int64\n",
            "Borough                              object\n",
            "UHF                                  object\n",
            "Gender                               object\n",
            "Age                                  object\n",
            "Race                                 object\n",
            "HIV diagnoses                         int64\n",
            "HIV diagnosis rate                  float64\n",
            "Concurrent diagnoses                  int64\n",
            "% linked to care within 3 months      int64\n",
            "AIDS diagnoses                        int64\n",
            "AIDS diagnosis rate                 float64\n",
            "PLWDHI prevalence                   float64\n",
            "% viral suppression                   int64\n",
            "Deaths                                int64\n",
            "Death rate                          float64\n",
            "HIV-related death rate              float64\n",
            "Non-HIV-related death rate          float64\n",
            "dtype: object\n"
          ]
        }
      ],
      "source": [
        "ha_df.dtypes\n",
        "print(ha_df.dtypes);\n",
        "columndf.dtypes\n",
        "columndf.columns = columndf.columns.str.replace(' ', '')\n"
      ]
    },
    {
      "cell_type": "code",
      "execution_count": 10,
      "metadata": {
        "colab": {
          "base_uri": "https://localhost:8080/",
          "height": 288
        },
        "id": "S-5MsHRksk4R",
        "outputId": "f77a6d97-d3b0-43a9-c6f9-8aa96bbf8032"
      },
      "outputs": [
        {
          "output_type": "execute_result",
          "data": {
            "text/plain": [
              "       Age  Year  HIVdiagnoses  HIVdiagnosisrate  Concurrentdiagnoses  \\\n",
              "0      All  2014          2749              38.3                  490   \n",
              "1      All  2014          2177              64.6                  369   \n",
              "2      All  2014           524              15.0                  116   \n",
              "3      All  2014            48           99999.0                    5   \n",
              "4  13 - 19  2014            28               8.5                    1   \n",
              "\n",
              "   AIDSdiagnoses  Deathrate  HIVdiagnosisrate AgeAdjustedDeathRate  \n",
              "0           1518       10.1              38.3                 90.4  \n",
              "1           1087        9.8              64.6                 90.4  \n",
              "2            415       10.9              15.0                 90.4  \n",
              "3             16        8.1           99999.0                 90.4  \n",
              "4              3        0.0               8.5                 90.4  "
            ],
            "text/html": [
              "\n",
              "  <div id=\"df-213a7a15-f366-4821-8e08-59ca8218afd1\">\n",
              "    <div class=\"colab-df-container\">\n",
              "      <div>\n",
              "<style scoped>\n",
              "    .dataframe tbody tr th:only-of-type {\n",
              "        vertical-align: middle;\n",
              "    }\n",
              "\n",
              "    .dataframe tbody tr th {\n",
              "        vertical-align: top;\n",
              "    }\n",
              "\n",
              "    .dataframe thead th {\n",
              "        text-align: right;\n",
              "    }\n",
              "</style>\n",
              "<table border=\"1\" class=\"dataframe\">\n",
              "  <thead>\n",
              "    <tr style=\"text-align: right;\">\n",
              "      <th></th>\n",
              "      <th>Age</th>\n",
              "      <th>Year</th>\n",
              "      <th>HIVdiagnoses</th>\n",
              "      <th>HIVdiagnosisrate</th>\n",
              "      <th>Concurrentdiagnoses</th>\n",
              "      <th>AIDSdiagnoses</th>\n",
              "      <th>Deathrate</th>\n",
              "      <th>HIVdiagnosisrate</th>\n",
              "      <th>AgeAdjustedDeathRate</th>\n",
              "    </tr>\n",
              "  </thead>\n",
              "  <tbody>\n",
              "    <tr>\n",
              "      <th>0</th>\n",
              "      <td>All</td>\n",
              "      <td>2014</td>\n",
              "      <td>2749</td>\n",
              "      <td>38.3</td>\n",
              "      <td>490</td>\n",
              "      <td>1518</td>\n",
              "      <td>10.1</td>\n",
              "      <td>38.3</td>\n",
              "      <td>90.4</td>\n",
              "    </tr>\n",
              "    <tr>\n",
              "      <th>1</th>\n",
              "      <td>All</td>\n",
              "      <td>2014</td>\n",
              "      <td>2177</td>\n",
              "      <td>64.6</td>\n",
              "      <td>369</td>\n",
              "      <td>1087</td>\n",
              "      <td>9.8</td>\n",
              "      <td>64.6</td>\n",
              "      <td>90.4</td>\n",
              "    </tr>\n",
              "    <tr>\n",
              "      <th>2</th>\n",
              "      <td>All</td>\n",
              "      <td>2014</td>\n",
              "      <td>524</td>\n",
              "      <td>15.0</td>\n",
              "      <td>116</td>\n",
              "      <td>415</td>\n",
              "      <td>10.9</td>\n",
              "      <td>15.0</td>\n",
              "      <td>90.4</td>\n",
              "    </tr>\n",
              "    <tr>\n",
              "      <th>3</th>\n",
              "      <td>All</td>\n",
              "      <td>2014</td>\n",
              "      <td>48</td>\n",
              "      <td>99999.0</td>\n",
              "      <td>5</td>\n",
              "      <td>16</td>\n",
              "      <td>8.1</td>\n",
              "      <td>99999.0</td>\n",
              "      <td>90.4</td>\n",
              "    </tr>\n",
              "    <tr>\n",
              "      <th>4</th>\n",
              "      <td>13 - 19</td>\n",
              "      <td>2014</td>\n",
              "      <td>28</td>\n",
              "      <td>8.5</td>\n",
              "      <td>1</td>\n",
              "      <td>3</td>\n",
              "      <td>0.0</td>\n",
              "      <td>8.5</td>\n",
              "      <td>90.4</td>\n",
              "    </tr>\n",
              "  </tbody>\n",
              "</table>\n",
              "</div>\n",
              "      <button class=\"colab-df-convert\" onclick=\"convertToInteractive('df-213a7a15-f366-4821-8e08-59ca8218afd1')\"\n",
              "              title=\"Convert this dataframe to an interactive table.\"\n",
              "              style=\"display:none;\">\n",
              "        \n",
              "  <svg xmlns=\"http://www.w3.org/2000/svg\" height=\"24px\"viewBox=\"0 0 24 24\"\n",
              "       width=\"24px\">\n",
              "    <path d=\"M0 0h24v24H0V0z\" fill=\"none\"/>\n",
              "    <path d=\"M18.56 5.44l.94 2.06.94-2.06 2.06-.94-2.06-.94-.94-2.06-.94 2.06-2.06.94zm-11 1L8.5 8.5l.94-2.06 2.06-.94-2.06-.94L8.5 2.5l-.94 2.06-2.06.94zm10 10l.94 2.06.94-2.06 2.06-.94-2.06-.94-.94-2.06-.94 2.06-2.06.94z\"/><path d=\"M17.41 7.96l-1.37-1.37c-.4-.4-.92-.59-1.43-.59-.52 0-1.04.2-1.43.59L10.3 9.45l-7.72 7.72c-.78.78-.78 2.05 0 2.83L4 21.41c.39.39.9.59 1.41.59.51 0 1.02-.2 1.41-.59l7.78-7.78 2.81-2.81c.8-.78.8-2.07 0-2.86zM5.41 20L4 18.59l7.72-7.72 1.47 1.35L5.41 20z\"/>\n",
              "  </svg>\n",
              "      </button>\n",
              "      \n",
              "  <style>\n",
              "    .colab-df-container {\n",
              "      display:flex;\n",
              "      flex-wrap:wrap;\n",
              "      gap: 12px;\n",
              "    }\n",
              "\n",
              "    .colab-df-convert {\n",
              "      background-color: #E8F0FE;\n",
              "      border: none;\n",
              "      border-radius: 50%;\n",
              "      cursor: pointer;\n",
              "      display: none;\n",
              "      fill: #1967D2;\n",
              "      height: 32px;\n",
              "      padding: 0 0 0 0;\n",
              "      width: 32px;\n",
              "    }\n",
              "\n",
              "    .colab-df-convert:hover {\n",
              "      background-color: #E2EBFA;\n",
              "      box-shadow: 0px 1px 2px rgba(60, 64, 67, 0.3), 0px 1px 3px 1px rgba(60, 64, 67, 0.15);\n",
              "      fill: #174EA6;\n",
              "    }\n",
              "\n",
              "    [theme=dark] .colab-df-convert {\n",
              "      background-color: #3B4455;\n",
              "      fill: #D2E3FC;\n",
              "    }\n",
              "\n",
              "    [theme=dark] .colab-df-convert:hover {\n",
              "      background-color: #434B5C;\n",
              "      box-shadow: 0px 1px 3px 1px rgba(0, 0, 0, 0.15);\n",
              "      filter: drop-shadow(0px 1px 2px rgba(0, 0, 0, 0.3));\n",
              "      fill: #FFFFFF;\n",
              "    }\n",
              "  </style>\n",
              "\n",
              "      <script>\n",
              "        const buttonEl =\n",
              "          document.querySelector('#df-213a7a15-f366-4821-8e08-59ca8218afd1 button.colab-df-convert');\n",
              "        buttonEl.style.display =\n",
              "          google.colab.kernel.accessAllowed ? 'block' : 'none';\n",
              "\n",
              "        async function convertToInteractive(key) {\n",
              "          const element = document.querySelector('#df-213a7a15-f366-4821-8e08-59ca8218afd1');\n",
              "          const dataTable =\n",
              "            await google.colab.kernel.invokeFunction('convertToInteractive',\n",
              "                                                     [key], {});\n",
              "          if (!dataTable) return;\n",
              "\n",
              "          const docLinkHtml = 'Like what you see? Visit the ' +\n",
              "            '<a target=\"_blank\" href=https://colab.research.google.com/notebooks/data_table.ipynb>data table notebook</a>'\n",
              "            + ' to learn more about interactive tables.';\n",
              "          element.innerHTML = '';\n",
              "          dataTable['output_type'] = 'display_data';\n",
              "          await google.colab.output.renderOutput(dataTable, element);\n",
              "          const docLink = document.createElement('div');\n",
              "          docLink.innerHTML = docLinkHtml;\n",
              "          element.appendChild(docLink);\n",
              "        }\n",
              "      </script>\n",
              "    </div>\n",
              "  </div>\n",
              "  "
            ]
          },
          "metadata": {},
          "execution_count": 10
        }
      ],
      "source": [
        "columndf.head(5)"
      ]
    },
    {
      "cell_type": "code",
      "execution_count": 11,
      "metadata": {
        "colab": {
          "base_uri": "https://localhost:8080/",
          "height": 288
        },
        "id": "sunx9bMNspbz",
        "outputId": "56cfb0dc-2135-4ec1-e2b0-412eb0724f13"
      },
      "outputs": [
        {
          "output_type": "execute_result",
          "data": {
            "text/plain": [
              "       Age  Year  HIVdiagnoses  HIVdiagnosisrate  Concurrentdiagnoses  \\\n",
              "0      All  2014          2749              38.3                  490   \n",
              "1      All  2014          2177              64.6                  369   \n",
              "2      All  2014           524              15.0                  116   \n",
              "3      All  2014            48           99999.0                    5   \n",
              "4  13 - 19  2014            28               8.5                    1   \n",
              "\n",
              "   AIDSdiagnoses  Deathrate  HIVdiagnosisrate AgeAdjustedDeathRate  \n",
              "0           1518       10.1              38.3                 90.4  \n",
              "1           1087        9.8              64.6                 90.4  \n",
              "2            415       10.9              15.0                 90.4  \n",
              "3             16        8.1           99999.0                 90.4  \n",
              "4              3        0.0               8.5                 90.4  "
            ],
            "text/html": [
              "\n",
              "  <div id=\"df-5ae2974a-262a-4e66-a294-c538116ecaeb\">\n",
              "    <div class=\"colab-df-container\">\n",
              "      <div>\n",
              "<style scoped>\n",
              "    .dataframe tbody tr th:only-of-type {\n",
              "        vertical-align: middle;\n",
              "    }\n",
              "\n",
              "    .dataframe tbody tr th {\n",
              "        vertical-align: top;\n",
              "    }\n",
              "\n",
              "    .dataframe thead th {\n",
              "        text-align: right;\n",
              "    }\n",
              "</style>\n",
              "<table border=\"1\" class=\"dataframe\">\n",
              "  <thead>\n",
              "    <tr style=\"text-align: right;\">\n",
              "      <th></th>\n",
              "      <th>Age</th>\n",
              "      <th>Year</th>\n",
              "      <th>HIVdiagnoses</th>\n",
              "      <th>HIVdiagnosisrate</th>\n",
              "      <th>Concurrentdiagnoses</th>\n",
              "      <th>AIDSdiagnoses</th>\n",
              "      <th>Deathrate</th>\n",
              "      <th>HIVdiagnosisrate</th>\n",
              "      <th>AgeAdjustedDeathRate</th>\n",
              "    </tr>\n",
              "  </thead>\n",
              "  <tbody>\n",
              "    <tr>\n",
              "      <th>0</th>\n",
              "      <td>All</td>\n",
              "      <td>2014</td>\n",
              "      <td>2749</td>\n",
              "      <td>38.3</td>\n",
              "      <td>490</td>\n",
              "      <td>1518</td>\n",
              "      <td>10.1</td>\n",
              "      <td>38.3</td>\n",
              "      <td>90.4</td>\n",
              "    </tr>\n",
              "    <tr>\n",
              "      <th>1</th>\n",
              "      <td>All</td>\n",
              "      <td>2014</td>\n",
              "      <td>2177</td>\n",
              "      <td>64.6</td>\n",
              "      <td>369</td>\n",
              "      <td>1087</td>\n",
              "      <td>9.8</td>\n",
              "      <td>64.6</td>\n",
              "      <td>90.4</td>\n",
              "    </tr>\n",
              "    <tr>\n",
              "      <th>2</th>\n",
              "      <td>All</td>\n",
              "      <td>2014</td>\n",
              "      <td>524</td>\n",
              "      <td>15.0</td>\n",
              "      <td>116</td>\n",
              "      <td>415</td>\n",
              "      <td>10.9</td>\n",
              "      <td>15.0</td>\n",
              "      <td>90.4</td>\n",
              "    </tr>\n",
              "    <tr>\n",
              "      <th>3</th>\n",
              "      <td>All</td>\n",
              "      <td>2014</td>\n",
              "      <td>48</td>\n",
              "      <td>99999.0</td>\n",
              "      <td>5</td>\n",
              "      <td>16</td>\n",
              "      <td>8.1</td>\n",
              "      <td>99999.0</td>\n",
              "      <td>90.4</td>\n",
              "    </tr>\n",
              "    <tr>\n",
              "      <th>4</th>\n",
              "      <td>13 - 19</td>\n",
              "      <td>2014</td>\n",
              "      <td>28</td>\n",
              "      <td>8.5</td>\n",
              "      <td>1</td>\n",
              "      <td>3</td>\n",
              "      <td>0.0</td>\n",
              "      <td>8.5</td>\n",
              "      <td>90.4</td>\n",
              "    </tr>\n",
              "  </tbody>\n",
              "</table>\n",
              "</div>\n",
              "      <button class=\"colab-df-convert\" onclick=\"convertToInteractive('df-5ae2974a-262a-4e66-a294-c538116ecaeb')\"\n",
              "              title=\"Convert this dataframe to an interactive table.\"\n",
              "              style=\"display:none;\">\n",
              "        \n",
              "  <svg xmlns=\"http://www.w3.org/2000/svg\" height=\"24px\"viewBox=\"0 0 24 24\"\n",
              "       width=\"24px\">\n",
              "    <path d=\"M0 0h24v24H0V0z\" fill=\"none\"/>\n",
              "    <path d=\"M18.56 5.44l.94 2.06.94-2.06 2.06-.94-2.06-.94-.94-2.06-.94 2.06-2.06.94zm-11 1L8.5 8.5l.94-2.06 2.06-.94-2.06-.94L8.5 2.5l-.94 2.06-2.06.94zm10 10l.94 2.06.94-2.06 2.06-.94-2.06-.94-.94-2.06-.94 2.06-2.06.94z\"/><path d=\"M17.41 7.96l-1.37-1.37c-.4-.4-.92-.59-1.43-.59-.52 0-1.04.2-1.43.59L10.3 9.45l-7.72 7.72c-.78.78-.78 2.05 0 2.83L4 21.41c.39.39.9.59 1.41.59.51 0 1.02-.2 1.41-.59l7.78-7.78 2.81-2.81c.8-.78.8-2.07 0-2.86zM5.41 20L4 18.59l7.72-7.72 1.47 1.35L5.41 20z\"/>\n",
              "  </svg>\n",
              "      </button>\n",
              "      \n",
              "  <style>\n",
              "    .colab-df-container {\n",
              "      display:flex;\n",
              "      flex-wrap:wrap;\n",
              "      gap: 12px;\n",
              "    }\n",
              "\n",
              "    .colab-df-convert {\n",
              "      background-color: #E8F0FE;\n",
              "      border: none;\n",
              "      border-radius: 50%;\n",
              "      cursor: pointer;\n",
              "      display: none;\n",
              "      fill: #1967D2;\n",
              "      height: 32px;\n",
              "      padding: 0 0 0 0;\n",
              "      width: 32px;\n",
              "    }\n",
              "\n",
              "    .colab-df-convert:hover {\n",
              "      background-color: #E2EBFA;\n",
              "      box-shadow: 0px 1px 2px rgba(60, 64, 67, 0.3), 0px 1px 3px 1px rgba(60, 64, 67, 0.15);\n",
              "      fill: #174EA6;\n",
              "    }\n",
              "\n",
              "    [theme=dark] .colab-df-convert {\n",
              "      background-color: #3B4455;\n",
              "      fill: #D2E3FC;\n",
              "    }\n",
              "\n",
              "    [theme=dark] .colab-df-convert:hover {\n",
              "      background-color: #434B5C;\n",
              "      box-shadow: 0px 1px 3px 1px rgba(0, 0, 0, 0.15);\n",
              "      filter: drop-shadow(0px 1px 2px rgba(0, 0, 0, 0.3));\n",
              "      fill: #FFFFFF;\n",
              "    }\n",
              "  </style>\n",
              "\n",
              "      <script>\n",
              "        const buttonEl =\n",
              "          document.querySelector('#df-5ae2974a-262a-4e66-a294-c538116ecaeb button.colab-df-convert');\n",
              "        buttonEl.style.display =\n",
              "          google.colab.kernel.accessAllowed ? 'block' : 'none';\n",
              "\n",
              "        async function convertToInteractive(key) {\n",
              "          const element = document.querySelector('#df-5ae2974a-262a-4e66-a294-c538116ecaeb');\n",
              "          const dataTable =\n",
              "            await google.colab.kernel.invokeFunction('convertToInteractive',\n",
              "                                                     [key], {});\n",
              "          if (!dataTable) return;\n",
              "\n",
              "          const docLinkHtml = 'Like what you see? Visit the ' +\n",
              "            '<a target=\"_blank\" href=https://colab.research.google.com/notebooks/data_table.ipynb>data table notebook</a>'\n",
              "            + ' to learn more about interactive tables.';\n",
              "          element.innerHTML = '';\n",
              "          dataTable['output_type'] = 'display_data';\n",
              "          await google.colab.output.renderOutput(dataTable, element);\n",
              "          const docLink = document.createElement('div');\n",
              "          docLink.innerHTML = docLinkHtml;\n",
              "          element.appendChild(docLink);\n",
              "        }\n",
              "      </script>\n",
              "    </div>\n",
              "  </div>\n",
              "  "
            ]
          },
          "metadata": {},
          "execution_count": 11
        }
      ],
      "source": [
        "columndf.head(5)"
      ]
    },
    {
      "cell_type": "code",
      "execution_count": 12,
      "metadata": {
        "colab": {
          "base_uri": "https://localhost:8080/"
        },
        "id": "qBMcQjyQAtlz",
        "outputId": "42f47e06-9e4d-4bd5-8d23-5bc611385328"
      },
      "outputs": [
        {
          "output_type": "stream",
          "name": "stdout",
          "text": [
            "Year: [2014, 2013, 2012, 2011]\n",
            "AIDSdiagnosisrate: [1518, 1087, 415, 16, 3, 46, 107, 130, 96, 49, 7, 280, 116, 2, 26, 12, 205, 259, 283, 237, 91, 38, 492, 357, 15, 185, 348, 0, 14, 30, 40, 31, 131, 72, 56, 4, 48, 59, 17, 217, 99, 98, 64, 5, 8, 24, 13, 11, 22, 1, 74, 25, 10, 9, 6, 33, 20, 39, 52, 32, 19, 18, 45, 392, 29, 93, 50, 81, 65, 276, 157, 68, 95, 69, 53, 34, 28, 41, 37, 300, 60, 36, 62, 240, 90, 67, 55, 44, 23, 21, 196, 43, 42, 27, 146, 58, 1949, 1440, 486, 114, 141, 303, 164, 328, 338, 378, 254, 122, 681, 462, 243, 427, 137, 77, 57, 54, 290, 151, 127, 63, 76, 47, 472, 149, 105, 73, 323, 214, 71, 35, 89, 78, 66, 70, 425, 94, 344, 123, 102, 51, 282, 61, 221, 80, 2106, 1529, 544, 181, 139, 376, 330, 364, 397, 136, 716, 488, 277, 470, 168, 82, 302, 134, 88, 101, 99999, 573, 178, 129, 395, 247, 160, 111, 85, 434, 358, 138, 75, 209, 87, 2366, 1712, 622, 133, 210, 421, 191, 370, 405, 506, 305, 822, 570, 274, 568, 203, 84, 79, 365, 156, 124, 650, 201, 155, 103, 449, 106, 119, 500, 92, 112, 132, 408, 167, 83, 218, 86, 97]\n",
            "Concurrentdiagnoses: [490, 369, 116, 5, 1, 11, 31, 26, 33, 19, 2, 81, 29, 8, 74, 94, 100, 65, 34, 18, 142, 132, 4, 73, 90, 0, 3, 6, 7, 27, 13, 14, 15, 63, 30, 10, 20, 17, 9, 22, 12, 152, 16, 47, 37, 105, 55, 25, 28, 21, 117, 23, 95, 32, 77, 583, 452, 127, 24, 40, 75, 44, 111, 106, 128, 62, 38, 188, 153, 78, 108, 39, 158, 36, 72, 41, 138, 110, 35, 107, 93, 564, 438, 122, 91, 88, 101, 131, 70, 45, 186, 144, 85, 82, 173, 53, 120, 76, 130, 640, 480, 50, 42, 104, 211, 155, 46, 98, 206, 56, 48, 150, 102, 103]\n",
            "Total Values: 653344\n"
          ]
        },
        {
          "output_type": "stream",
          "name": "stderr",
          "text": [
            "IOPub data rate exceeded.\n",
            "The notebook server will temporarily stop sending output\n",
            "to the client in order to avoid crashing it.\n",
            "To change this limit, set the config variable\n",
            "`--NotebookApp.iopub_data_rate_limit`.\n",
            "\n",
            "Current values:\n",
            "NotebookApp.iopub_data_rate_limit=1000000.0 (bytes/sec)\n",
            "NotebookApp.rate_limit_window=3.0 (secs)\n",
            "\n"
          ]
        }
      ],
      "source": [
        "print(\"Year:\",columndf.Year.unique().tolist())\n",
        "print(\"AIDSdiagnosisrate:\",columndf.AIDSdiagnoses.unique().tolist())\n",
        "print(\"Concurrentdiagnoses:\",columndf.Concurrentdiagnoses.unique().tolist())\n",
        "\n",
        "\n",
        "print(\"Total Values:\",len(columndf.Deathrate.tolist()))\n",
        "print(columndf.Deathrate.tolist())\n"
      ]
    },
    {
      "cell_type": "code",
      "execution_count": 13,
      "metadata": {
        "colab": {
          "base_uri": "https://localhost:8080/"
        },
        "id": "hCsc-81CKZNm",
        "outputId": "e2709701-8367-4214-c183-4b2dfe5955dd"
      },
      "outputs": [
        {
          "output_type": "stream",
          "name": "stdout",
          "text": [
            "Years 2014 yearcount: 163336\n",
            "Years 2013 yearcount: 159733\n",
            "Years 2012 yearcount: 160934\n",
            "Years 2011 yearcount: 169341\n"
          ]
        }
      ],
      "source": [
        "for i in columndf.Year.unique().tolist():\n",
        "    dfA = columndf[columndf.Year == i ]\n",
        "    i = int(i)\n",
        "  \n",
        "    print(f\"Years {i} yearcount:\",len(dfA))"
      ]
    },
    {
      "cell_type": "code",
      "execution_count": 14,
      "metadata": {
        "colab": {
          "base_uri": "https://localhost:8080/",
          "height": 665
        },
        "id": "NUNfaT8TzioQ",
        "outputId": "02cbc29b-29aa-4b29-b507-52e33e7bf605"
      },
      "outputs": [
        {
          "output_type": "stream",
          "name": "stdout",
          "text": [
            "<seaborn.axisgrid.FacetGrid object at 0x7fbe3b150a60>\n"
          ]
        },
        {
          "output_type": "stream",
          "name": "stderr",
          "text": [
            "/usr/local/lib/python3.8/dist-packages/seaborn/axisgrid.py:670: UserWarning: Using the boxplot function without specifying `order` is likely to produce an incorrect plot.\n",
            "  warnings.warn(warning)\n"
          ]
        },
        {
          "output_type": "execute_result",
          "data": {
            "text/plain": [
              "<seaborn.axisgrid.FacetGrid at 0x7fbe3b150a60>"
            ]
          },
          "metadata": {},
          "execution_count": 14
        },
        {
          "output_type": "display_data",
          "data": {
            "text/plain": [
              "<Figure size 1520x864 with 28 Axes>"
            ],
            "image/png": "[encoded data removed]"
          },
          "metadata": {
            "needs_background": "light"
          }
        }
      ],
      "source": [
        "graph = sns.FacetGrid(data=columndf, col = \"Age\",row='Year', margin_titles = True)\n",
        "print(graph)\n",
        "graph.map(sns.boxplot,\"HIVdiagnoses\", \"AIDSdiagnoses\")\n",
        "graph.add_legend()"
      ]
    },
    {
      "cell_type": "code",
      "execution_count": 15,
      "metadata": {
        "colab": {
          "base_uri": "https://localhost:8080/"
        },
        "id": "jN7ZMKmazoCL",
        "outputId": "a810dcbb-12dd-4126-dedf-227755a64bf4"
      },
      "outputs": [
        {
          "output_type": "stream",
          "name": "stdout",
          "text": [
            "2014\n",
            "HIVdiagnoses  25.002497918401332 \n",
            "AIDSdiagnoses 13.478767693588676\n",
            "2013\n",
            "HIVdiagnoses  25.815154038301415 \n",
            "AIDSdiagnoses 17.348875936719402\n",
            "2012\n",
            "HIVdiagnoses  28.016652789342213 \n",
            "AIDSdiagnoses 102.25978351373855\n",
            "2011\n",
            "HIVdiagnoses  30.564529558701082 \n",
            "AIDSdiagnoses 21.548709408825978\n"
          ]
        }
      ],
      "source": [
        "for year in columndf.Year.unique().tolist():\n",
        "    dfB = columndf[columndf.Year == year]\n",
        "    mean_hiv =  dfB.HIVdiagnoses.mean()\n",
        "    mean_aids =   dfB.AIDSdiagnoses.mean()\n",
        "    print(f\"{year}\\nHIVdiagnoses  {mean_hiv} \\nAIDSdiagnoses {mean_aids}\")"
      ]
    },
    {
      "cell_type": "code",
      "execution_count": 16,
      "metadata": {
        "colab": {
          "base_uri": "https://localhost:8080/"
        },
        "id": "Cn15hKTS6m9k",
        "outputId": "0657d568-9aa6-4fe2-971f-18784f8c5bc6"
      },
      "outputs": [
        {
          "output_type": "stream",
          "name": "stdout",
          "text": [
            "2011's HIVdiagnoses: 5175828\n",
            "2011's AIDSdiagnoses: 3649080\n",
            "\n",
            "2012's HIVdiagnoses: 4508832\n",
            "2012's AIDSdiagnoses: 16457076\n",
            "\n",
            "2013's HIVdiagnoses: 4123532\n",
            "2013's AIDSdiagnoses: 2771188\n",
            "\n",
            "2014's HIVdiagnoses: 4083808\n",
            "2014's AIDSdiagnoses: 2201568\n",
            "\n"
          ]
        }
      ],
      "source": [
        "test_diagnoses = columndf.groupby(['Year'])\n",
        "for y in sorted(columndf.Year.unique().tolist()):\n",
        "    dfB = columndf[columndf.Year == y]\n",
        "    HIVdiagnoses = dfB.HIVdiagnoses.sum()\n",
        "    AIDSdiagnoses = dfB.AIDSdiagnoses.sum()\n",
        "    print(f'{y}\\'s HIVdiagnoses: {HIVdiagnoses}')\n",
        "    print(f'{y}\\'s AIDSdiagnoses: {AIDSdiagnoses}\\n')"
      ]
    },
    {
      "cell_type": "code",
      "execution_count": 17,
      "metadata": {
        "colab": {
          "base_uri": "https://localhost:8080/",
          "height": 531
        },
        "id": "WP6TAJk065X4",
        "outputId": "708ab97b-d21e-41ee-a0d3-684b9007dee4"
      },
      "outputs": [
        {
          "output_type": "stream",
          "name": "stderr",
          "text": [
            "<ipython-input-17-75103fcce5f4>:11: SettingWithCopyWarning: \n",
            "A value is trying to be set on a copy of a slice from a DataFrame.\n",
            "Try using .loc[row_indexer,col_indexer] = value instead\n",
            "\n",
            "See the caveats in the documentation: https://pandas.pydata.org/pandas-docs/stable/user_guide/indexing.html#returning-a-view-versus-a-copy\n",
            "  columndf[\"compared_to_hivdiagnoses\"] = columndf.HIVdiagnoses.apply(compare_hiv_mean)\n",
            "<ipython-input-17-75103fcce5f4>:12: SettingWithCopyWarning: \n",
            "A value is trying to be set on a copy of a slice from a DataFrame.\n",
            "Try using .loc[row_indexer,col_indexer] = value instead\n",
            "\n",
            "See the caveats in the documentation: https://pandas.pydata.org/pandas-docs/stable/user_guide/indexing.html#returning-a-view-versus-a-copy\n",
            "  columndf[\"compared_to_aidsdiagnoses\"] = columndf.AIDSdiagnoses.apply(compare_aids_mean)\n"
          ]
        },
        {
          "output_type": "stream",
          "name": "stdout",
          "text": [
            "HIV Score: 27.38526717931136 \n",
            "Aids Score: 38.38546309448009 \n",
            "higher than HIV scores: 15.41%\n",
            "lower than HIV scores: 84.59%\n",
            "higher than Aids scores: 8.4%\n",
            "lower than Aids scores: 91.6%\n"
          ]
        },
        {
          "output_type": "display_data",
          "data": {
            "text/plain": [
              "<Figure size 432x216 with 2 Axes>"
            ],
            "image/png": "[encoded data removed]"
          },
          "metadata": {}
        }
      ],
      "source": [
        "\n",
        "\n",
        "# * Display information of average score of a Age level of Year within a time period in relation to the average score\n",
        "def testing():\n",
        "\n",
        "\n",
        "\n",
        "    # * Calculate \n",
        "    hivdiagnoses = columndf.HIVdiagnoses.mean()\n",
        "    aidsdiagnoses = columndf.AIDSdiagnoses.mean()\n",
        "    compare_hiv_mean = lambda x: \"higher\" if x>hivdiagnoses else \"lower\"\n",
        "    compare_aids_mean = lambda x: \"higher\" if x>aidsdiagnoses else \"lower\"\n",
        "    columndf[\"compared_to_hivdiagnoses\"] = columndf.HIVdiagnoses.apply(compare_hiv_mean)\n",
        "    columndf[\"compared_to_aidsdiagnoses\"] = columndf.AIDSdiagnoses.apply(compare_aids_mean)\n",
        "\n",
        "    # *\n",
        "    hiv_higher_percentage = round((len(columndf[columndf.compared_to_hivdiagnoses == 'higher'])/len(columndf) * 100),2) \n",
        "    hiv_lower_percentage = round((len(columndf[columndf.compared_to_hivdiagnoses == 'lower'])/len(columndf) * 100),2) \n",
        "    aids_higher_percentage = round((len(columndf[columndf.compared_to_aidsdiagnoses == 'higher'])/len(columndf) * 100),2) \n",
        "    aids_lower_percentage = round((len(columndf[columndf.compared_to_aidsdiagnoses == 'lower'])/len(columndf) * 100),2) \n",
        "    print(f'HIV Score: {hivdiagnoses} ')\n",
        "    print(f'Aids Score: {aidsdiagnoses} ')\n",
        "    print(f\"higher than HIV scores: {hiv_higher_percentage}%\")\n",
        "    print(f\"lower than HIV scores: {hiv_lower_percentage}%\")\n",
        "    print(f\"higher than Aids scores: {aids_higher_percentage}%\")\n",
        "    print(f\"lower than Aids scores: {aids_lower_percentage}%\")\n",
        "\n",
        "    \n",
        "    hiv_data = columndf.compared_to_hivdiagnoses.value_counts().tolist()\n",
        "    aids_data = columndf.compared_to_aidsdiagnoses.value_counts().tolist()\n",
        "    hiv_total_values = len(hiv_data)\n",
        "    aids_total_values = len(aids_data)\n",
        "    hiv_data = [point/hiv_total_values for point in hiv_data]\n",
        "    aids_data = [point/aids_total_values for point in aids_data]\n",
        "    hiv_label = columndf.compared_to_hivdiagnoses.unique().tolist()\n",
        "    aids_label = columndf.compared_to_aidsdiagnoses.unique().tolist()\n",
        "\n",
        "    fig, axs = plt.subplots(1, 2, figsize=(6, 3))\n",
        "\n",
        "    axs[0].pie(hiv_data,labels=hiv_label,autopct='%.0f%%')\n",
        "    axs[0].set_title(\"HIV Diagnoses\")\n",
        "    axs[1].pie(aids_data,labels=aids_label,autopct='%.0f%%')\n",
        "    axs[1].set_title(\"AIDS Diagnoses\")\n",
        "    plt.show()\n",
        "    \n",
        "\n",
        "testing()"
      ]
    },
    {
      "cell_type": "code",
      "source": [],
      "metadata": {
        "id": "UsSGXLn0RiMN"
      },
      "execution_count": 15,
      "outputs": []
    }
  ],
  "metadata": {
    "colab": {
      "provenance": []
    },
    "kernelspec": {
      "display_name": "Python 3",
      "name": "python3"
    },
    "language_info": {
      "name": "python"
    }
  },
  "nbformat": 4,
  "nbformat_minor": 0
}